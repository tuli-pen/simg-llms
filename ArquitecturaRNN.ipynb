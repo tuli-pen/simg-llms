{
  "nbformat": 4,
  "nbformat_minor": 0,
  "metadata": {
    "colab": {
      "provenance": [],
      "include_colab_link": true
    },
    "kernelspec": {
      "name": "python3",
      "display_name": "Python 3"
    },
    "language_info": {
      "name": "python"
    }
  },
  "cells": [
    {
      "cell_type": "markdown",
      "metadata": {
        "id": "view-in-github",
        "colab_type": "text"
      },
      "source": [
        "<a href=\"https://colab.research.google.com/github/tuli-pen/simg-llms/blob/master/ArquitecturaRNN.ipynb\" target=\"_parent\"><img src=\"https://colab.research.google.com/assets/colab-badge.svg\" alt=\"Open In Colab\"/></a>"
      ]
    },
    {
      "cell_type": "markdown",
      "source": [
        "# Arquitectura RNN\n",
        "\n",
        "Este notebook presenta el código necesario para programar una Red Neuronal Recurrente (RNN) y nos permite analizar la arquitectura de este modelo."
      ],
      "metadata": {
        "id": "GrV_ScoXs6xq"
      }
    },
    {
      "cell_type": "markdown",
      "source": [
        "### RNN usando Pytorch"
      ],
      "metadata": {
        "id": "thGHaJxmtgpq"
      }
    },
    {
      "cell_type": "code",
      "execution_count": null,
      "metadata": {
        "id": "EIq4ALaQs07U"
      },
      "outputs": [],
      "source": [
        "# Importaciones necesarias\n",
        "\n",
        "import torch\n",
        "import torch.nn as nn # Módulo de redes neuronales de PyTorch\n",
        "                      # (NN es la abreviatura de Neural Network)"
      ]
    },
    {
      "cell_type": "code",
      "source": [
        "# Definimos la arquitectura del modelo\n",
        "\n",
        "class mi_RNN(nn.Module):  # mi_RNN es una subclase de nn.Module\n",
        "\n",
        "    # Definimos el constructor de la clase mi_RNN\n",
        "    def __init__(self, input_size, hidden_size, output_size):\n",
        "\n",
        "        super(mi_RNN, self).__init__() # Llama al constructor de la clase padre (nn.Module)\n",
        "\n",
        "        self.hidden_size = hidden_size # Creamos un atributo con el parámetro hidden_size que recibimos\n",
        "\n",
        "        # Definimos dos capas:\n",
        "        self.rnn = nn.RNN(input_size, hidden_size, batch_first=True) # *1\n",
        "        self.fc = nn.Linear(hidden_size, output_size) # *2\n",
        "\n",
        "    # Definimos cómo se pasa la entrada a través de las capas del modelo\n",
        "    def forward(self, x):\n",
        "        h0 = torch.zeros(1, x.size(0), self.hidden_size) # Se inicializa el estado oculto h0 con ceros\n",
        "        out, hn = self.rnn(x, h0)\n",
        "        out = self.fc(out[:, -1, :])\n",
        "        return out"
      ],
      "metadata": {
        "id": "fFN8HCmauaVT"
      },
      "execution_count": null,
      "outputs": []
    },
    {
      "cell_type": "markdown",
      "source": [
        "***1:** En esta línea estamos definiendo una **capa tipo nn.RNN** que toma una entrada de tamaño *input_size* y produce una salida de tamaño *hidden_size*.\n",
        "\n",
        "*batch_first=True* especifica que el primer parámetro de los datos de entrada será el tamaño del lote (en lugar de la longitud de la secuencia, lo predefinido en Pytorch)\n",
        "\n"
      ],
      "metadata": {
        "id": "AldpGC_KEwS1"
      }
    },
    {
      "cell_type": "markdown",
      "source": [
        "***2:** En esta línea estamos definiendo una **capa fully connected (del tipo nn.Linear)** que toma la salida de la capa RNN (de tamaño *hidden_size*) y la transforma en una salida de tamaño *output_size*."
      ],
      "metadata": {
        "id": "r30UwVaaGmgG"
      }
    },
    {
      "cell_type": "code",
      "source": [
        "# Instanciamos nuestro modelo\n",
        "\n",
        "input_size = 1\n",
        "hidden_size = 32\n",
        "output_size = 1\n",
        "model = mi_RNN(input_size, hidden_size, output_size)"
      ],
      "metadata": {
        "id": "-y4-iDdBucYw"
      },
      "execution_count": null,
      "outputs": []
    },
    {
      "cell_type": "code",
      "source": [
        "# Definimos la función de pérdida y el optimizador\n",
        "\n",
        "criterion = nn.BCEWithLogitsLoss()\n",
        "optimizer = torch.optim.Adam(model.parameters(), lr=0.001)"
      ],
      "metadata": {
        "id": "i-zlw78fZt8X"
      },
      "execution_count": null,
      "outputs": []
    },
    {
      "cell_type": "code",
      "source": [
        "# Creamos datos de ejemplo para el entrenamiento\n",
        "\n",
        "from torch.utils.data import DataLoader, TensorDataset\n",
        "\n",
        "train_data = torch.tensor([[[0.1], [0.2], [0.3], [0.4], [0.5]],\n",
        "                           [[0.6], [0.7], [0.8], [0.9], [1.0]],\n",
        "                           [[1.1], [1.2], [1.3], [1.4], [1.5]],\n",
        "                           [[1.6], [1.7], [1.8], [1.9], [2.0]],\n",
        "                           [[2.1], [2.2], [2.3], [2.4], [2.5]],\n",
        "                           [[0.8], [0.7], [0.5], [0.9], [0.9]]])  # Datos de entrenamiento\n",
        "train_labels = torch.tensor([0, 1, 0, 1, 0, 1])  # Etiquetas binarias para los datos de entrenamiento\n",
        "\n",
        "# DataLoader\n",
        "train_dataset = TensorDataset(train_data, train_labels)\n",
        "train_loader = DataLoader(train_dataset, batch_size=2, shuffle=True)"
      ],
      "metadata": {
        "id": "0w9RPpNZj8bM"
      },
      "execution_count": null,
      "outputs": []
    },
    {
      "cell_type": "code",
      "source": [
        "# Entrenamos el modelo\n",
        "\n",
        "num_epochs = 10\n",
        "for epoch in range(num_epochs):\n",
        "    for i, (inputs, labels) in enumerate(train_loader):\n",
        "        optimizer.zero_grad() # Se reinician los gradientes\n",
        "        outputs = model(inputs)\n",
        "        loss = criterion(outputs.squeeze(), labels.float())\n",
        "        loss.backward() # Retropropagación\n",
        "        optimizer.step() # Actualiza los pesos"
      ],
      "metadata": {
        "id": "Bc04SilEZwml"
      },
      "execution_count": null,
      "outputs": []
    },
    {
      "cell_type": "code",
      "source": [
        "# Creamos datos de ejemplo para la evaluación\n",
        "\n",
        "test_data = torch.tensor([[[2.6], [2.7], [2.8], [2.9], [3.0]],\n",
        "                          [[3.1], [3.2], [3.3], [3.4], [3.5]],\n",
        "                          [[0.1], [0.4], [2.0], [0.9], [3.0]],\n",
        "                          [[3.6], [0.2], [3.3], [2.0], [0.5]]])  # Datos de prueba\n",
        "test_labels = torch.tensor([1, 1, 0, 1])  # Etiquetas binarias para los datos de prueba\n",
        "\n",
        "# DataLoader\n",
        "test_dataset = TensorDataset(test_data, test_labels)\n",
        "test_loader = DataLoader(test_dataset, batch_size=2)"
      ],
      "metadata": {
        "id": "uIkkLcymkE5G"
      },
      "execution_count": null,
      "outputs": []
    },
    {
      "cell_type": "code",
      "source": [
        "# Evaluamos el modelo\n",
        "\n",
        "with torch.no_grad(): # Desactivamos el cálculo de gradientes durante la evaluación\n",
        "    correct = 0\n",
        "    total = 0\n",
        "    for inputs, labels in test_loader:\n",
        "        outputs = model(inputs)\n",
        "        predicted = torch.round(torch.sigmoid(outputs)) # Convierte los outputs en predicciones binarias\n",
        "        total += labels.size(0)\n",
        "        correct += (predicted == labels).sum().item() # *3\n",
        "accuracy = 100 * correct / total\n",
        "print(\"Accuracy:\", accuracy, \"%\")"
      ],
      "metadata": {
        "colab": {
          "base_uri": "https://localhost:8080/"
        },
        "id": "KyXiw2rKZ0ZR",
        "outputId": "e0406c33-ee5c-4de3-eb3f-a510280874ec"
      },
      "execution_count": null,
      "outputs": [
        {
          "output_type": "stream",
          "name": "stdout",
          "text": [
            "Accuracy: 50.0 %\n"
          ]
        }
      ]
    },
    {
      "cell_type": "markdown",
      "source": [
        "***3:** En esta línea estamos calculando el número de predicciones correctas y las estamos agregando al contador \"correct\".\n",
        "\n",
        "- **(predicted == labels)** compara las etiquetas predichas (predicted) con las etiquetas reales (labels). Esta operación devuelve un tensor de booleanos. (True indica que la predicción fue correcta y False indica que fue incorrecta).\n",
        "\n",
        "- **.sum()** suma los elementos del tensor booleano. Como True se interpreta como 1 y False se interpreta como 0 entonces obtenemos el número total de predicciones correctas.\n",
        "\n",
        "- **.item()** Convierte el resultado de la suma en un número de Python. (Esto es necesario porque .sum() devuelve un tensor de PyTorch)."
      ],
      "metadata": {
        "id": "AyODcHtggt8z"
      }
    },
    {
      "cell_type": "code",
      "source": [
        "# Creamos datos de ejemplo para hacer predicciones\n",
        "\n",
        "x_new = torch.tensor([[[3.6], [3.7], [3.8], [3.9], [4.0]],\n",
        "                      [[4.1], [4.2], [4.3], [4.4], [4.5]]])  # Datos de entrada para predicciones"
      ],
      "metadata": {
        "id": "QS45EQsMknxF"
      },
      "execution_count": null,
      "outputs": []
    },
    {
      "cell_type": "code",
      "source": [
        "# Hacemos predicciones usando el modelo\n",
        "\n",
        "with torch.no_grad():\n",
        "    predictions = model(x_new)\n",
        "    predictions = torch.round(torch.sigmoid(predictions))\n",
        "\n",
        "predictions"
      ],
      "metadata": {
        "colab": {
          "base_uri": "https://localhost:8080/"
        },
        "id": "ic2msxsJZ1uB",
        "outputId": "7ba87a9e-9bca-4b78-9285-d20c01210442"
      },
      "execution_count": null,
      "outputs": [
        {
          "output_type": "execute_result",
          "data": {
            "text/plain": [
              "tensor([[0.],\n",
              "        [0.]])"
            ]
          },
          "metadata": {},
          "execution_count": 31
        }
      ]
    }
  ]
}